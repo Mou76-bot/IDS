{
 "cells": [
  {
   "cell_type": "markdown",
   "metadata": {},
   "source": [
    "Markov chains:  Galton-Watson process"
   ]
  },
  {
   "cell_type": "code",
   "execution_count": 1,
   "metadata": {},
   "outputs": [],
   "source": [
    "import numpy as np\n",
    "import random as rm\n",
    "import matplotlib.pyplot as plt\n",
    "\n",
    "import time\n",
    "\n",
    "\n",
    "# define the state space of a bacteria: we have 3 states, either split in two, stay the same or die (2, 0, 1)\n",
    "\n",
    "def simulate_growth(z0, p, n_exit):\n",
    "    \n",
    "    # n_exit: an exit length of life expectancy (just to estimate the extinction probability)\n",
    "    \n",
    "    # expected number of offspring from an individual (we know that EX = 1, can also check)\n",
    "     ex_offspring_ind = []\n",
    "     # the offspring process\n",
    "     z_n = [z0]\n",
    "    \n",
    "     i = 1\n",
    "    # here, p is the vector p = (p0, p1, p2) of probabilities to die, stay the same or split\n",
    "     while 1:\n",
    "         # vector\n",
    "         # here we count the total number off offspring at instance i \n",
    "         all_offspring_current_n = 0\n",
    "         # here is the number of offspring we had previously (remember it's an MC so that's all we need to know!)\n",
    "         total_prev_offspring = z_n[i-1]\n",
    "         # for each of the offspring in previous generartion, generate a new offspring \n",
    "         for cur_offspring in range(total_prev_offspring):\n",
    "             next_offspring = np.random.choice(np.arange(0, 3), p=p)\n",
    "             ex_offspring_ind.append(next_offspring)\n",
    "             # and count them in into the total number offspring at the current state\n",
    "             all_offspring_current_n += next_offspring\n",
    "         # the current instance of Z_n is the total number of offspring\n",
    "         z_n.append(all_offspring_current_n)\n",
    "         \n",
    "\n",
    "         # if no offspring produced, we extinct\n",
    "         if all_offspring_current_n == 0:\n",
    "             print('Your population died out after ', i, 'generations')\n",
    "             break\n",
    "         # if we've been running the simulation for far too long, we exit\n",
    "         if i >= n_exit:\n",
    "             print('Your population survived after ', i, 'generations')\n",
    "             break\n",
    "         \n",
    "         i += 1\n",
    "               \n",
    "     return [z_n, ex_offspring_ind]\n",
    "        "
   ]
  },
  {
   "cell_type": "code",
   "execution_count": null,
   "metadata": {},
   "outputs": [],
   "source": [
    "import matplotlib.pyplot as plt\n",
    "\n",
    "p_offspring = [1/3, 1/3, 1/3]\n",
    "\n",
    "\n",
    "process_instant = simulate_growth(1, p_offspring, np.Infinity)\n",
    "\n",
    "print(process_instant[0])\n"
   ]
  },
  {
   "cell_type": "code",
   "execution_count": null,
   "metadata": {},
   "outputs": [],
   "source": [
    "np.mean(process_instant[1])\n"
   ]
  },
  {
   "cell_type": "markdown",
   "metadata": {},
   "source": [
    "Calculate the expected lifetime of the population"
   ]
  },
  {
   "cell_type": "code",
   "execution_count": null,
   "metadata": {},
   "outputs": [],
   "source": [
    "# keep all obtained life times\n",
    "n_lifetime = []\n",
    "\n",
    "p_offspring = [1/3, 1/3, 1/3]\n",
    "\n",
    "# now repeat the simulation k = 1000 times\n",
    "k = 1000\n",
    "\n",
    "offspring_number = []\n",
    "\n",
    "for i in range(k):\n",
    "    cur_population = simulate_growth(1, p_offspring, np.Infinity)\n",
    "    n_lifetime.append(len(cur_population[0]))\n",
    "    offspring_number.append(np.mean(cur_population[0]))\n",
    "    \n",
    "\n",
    "print('Estimated life expectancy is ', np.mean(n_lifetime))\n",
    "print('Mean offspring number for each generation is ', np.mean(offspring_number))\n",
    "plt.plot(n_lifetime)\n",
    "plt.show()\n"
   ]
  },
  {
   "cell_type": "markdown",
   "metadata": {},
   "source": [
    "Let's change the offspring probabilities so that EX < 1. For example, take p = [1/2, 1/4, 1/4]. Then EX = 3/4. Let's estimate the extinction probability after 10000 steps"
   ]
  },
  {
   "cell_type": "code",
   "execution_count": null,
   "metadata": {},
   "outputs": [],
   "source": [
    "n_lifetime = []\n",
    "\n",
    "# now repeat the simulation k = 1000 times\n",
    "k = 10\n",
    "\n",
    "# simulation length\n",
    "sim_len = 100\n",
    "\n",
    "#p_offspring = [1/3, 1/3, 1/3]\n",
    "p_offspring = [0.3, 0.3, 0.4]\n",
    "\n",
    "offspring_number = []\n",
    "\n",
    "# vector of indicators if the populations died before 1000 steps\n",
    "died_before_sim_len = []\n",
    "\n",
    "for i in range(k):\n",
    "    cur_population = simulate_growth(1, p_offspring, sim_len)\n",
    "    if(len(cur_population[0]) < sim_len):\n",
    "        died_before_sim_len.append(1)\n",
    "    else:\n",
    "        died_before_sim_len.append(0)\n",
    "    n_lifetime.append(len(cur_population[0]))\n",
    "    offspring_number.append(np.mean(cur_population[0]))\n",
    "    \n",
    "    \n",
    "print('Estimated life expectancy is ', np.mean(n_lifetime))\n",
    "print('Mean offspring number for each generation is ', np.mean(offspring_number))\n"
   ]
  },
  {
   "cell_type": "code",
   "execution_count": null,
   "metadata": {},
   "outputs": [],
   "source": [
    "print('Extinction probability is ', np.mean(died_before_sim_len))\n",
    "\n",
    "offspring_number\n",
    "\n",
    "#died_before_sim_len"
   ]
  },
  {
   "cell_type": "markdown",
   "metadata": {},
   "source": [
    "Plotting trees with anytree package"
   ]
  },
  {
   "cell_type": "code",
   "execution_count": null,
   "metadata": {},
   "outputs": [],
   "source": [
    "from anytree import Node, RenderTree\n",
    "\n",
    "# create the main node\n",
    "main_node = Node(\"Node0\")\n",
    "# add children\n",
    "child1 = Node(\"Child1\", parent=main_node)\n",
    "child2 = Node(\"Child2\", parent=main_node)\n",
    "# add subchildren\n",
    "subchild1 = Node(\"Subchild1\", parent=child1)\n",
    "subchild2 = Node(\"Subchild2\", parent=child2)\n",
    "subchild3 = Node(\"Subchild3\", parent=child2)\n",
    "\n",
    "##### print the tree we created:\n",
    "for pre, fill, node in RenderTree(main_node):\n",
    "    print(\"%s%s\" % (pre, node.name))\n"
   ]
  },
  {
   "cell_type": "markdown",
   "metadata": {},
   "source": [
    "Now do this for our problem:"
   ]
  },
  {
   "cell_type": "code",
   "execution_count": null,
   "metadata": {},
   "outputs": [],
   "source": [
    "# try plotting trees\n",
    "from anytree import Node, RenderTree\n",
    "import random\n",
    "import numpy as np\n",
    "\n",
    "\n",
    "z0 = 1\n",
    "p = [1/3, 1/3, 1/3]\n",
    "\n",
    "n_exit = 7\n",
    "# define an exit length of life expectancy (just to estimate the extinction probability)\n",
    "\n",
    "# expected number of offspring from an individual (we know that EX = 1, can also check)\n",
    "ex_offspring_ind = []\n",
    "# the offspring process\n",
    "z_n = [z0]\n",
    "# Create head node\n",
    "z_0_node = Node(\"Z0\")\n",
    "\n",
    "# an integer counter of all nodes in the graph\n",
    "counts_all_nodes = 1\n",
    "# vector were we keep all the nodes\n",
    "all_nodes_list = [z_0_node]\n",
    "i = 1\n",
    "\n",
    "while 1:\n",
    "    # vector\n",
    "    # here we count the total number off offspring at instance i \n",
    "    all_offspring_current_n = 0\n",
    "    # here is the number of offspring we had previously (remember it's an MC so that's all we need to know!)\n",
    "    total_prev_offspring = z_n[i-1]\n",
    "    # for each of the offspring in previous generation, generate a new offspring \n",
    "    cur_nodes_list = []\n",
    "    for cur_offspring in range(total_prev_offspring):\n",
    "        np.random.seed(10)\n",
    "        next_offspring = np.random.choice(np.arange(0, 3), p=p)\n",
    "        # add nodes\n",
    "        for cur_node in range(next_offspring):\n",
    "            if len(all_nodes_list) == 1:\n",
    "                cur_nodes_list.append(Node(\"X\"+str(counts_all_nodes), parent=all_nodes_list[cur_offspring]))\n",
    "            else:\n",
    "                cur_nodes_list.append(Node(\"X\"+str(counts_all_nodes), parent=all_nodes_list[(len(all_nodes_list)-1)][cur_offspring]))\n",
    "            \n",
    "            counts_all_nodes += 1\n",
    "            \n",
    "        ex_offspring_ind.append(next_offspring)\n",
    "        # and count them in into the total number offspring at the current state\n",
    "        all_offspring_current_n += next_offspring\n",
    "    # the current instance of Z_n is the total number of offspring\n",
    "    z_n.append(all_offspring_current_n)\n",
    "    \n",
    "    if len(cur_nodes_list) > 0:\n",
    "        all_nodes_list.append(cur_nodes_list)\n",
    "\n",
    "    # if no offspring produced, we extinct\n",
    "    if all_offspring_current_n == 0:\n",
    "        print('Your population died out after ', i, 'generations')\n",
    "        break\n",
    "    # if we've been running the simulation for far too long, we exit\n",
    "    if i >= n_exit:\n",
    "        print('Your population survived after ', i, 'generations')\n",
    "        break\n",
    "    \n",
    "    i += 1\n",
    "\n",
    "\n"
   ]
  },
  {
   "cell_type": "code",
   "execution_count": null,
   "metadata": {},
   "outputs": [],
   "source": [
    "for pre, fill, node in RenderTree(z_0_node):\n",
    "    print(\"%s%s\" % (pre, node.name))\n",
    "    \n",
    "print(z_n)"
   ]
  },
  {
   "cell_type": "markdown",
   "metadata": {},
   "source": [
    "Let's make a plot of this tree using UniqueDotExporter from the same anytree package"
   ]
  },
  {
   "cell_type": "code",
   "execution_count": 395,
   "metadata": {},
   "outputs": [],
   "source": [
    "\n",
    "    \n",
    "from anytree.exporter import UniqueDotExporter\n",
    "from PIL import Image\n",
    "\n",
    "pic_name = 'z_n_visual.png'\n",
    "# graphviz needs to be installed for the next line!\n",
    "UniqueDotExporter(z_0_node).to_picture(pic_name)\n",
    "#Image.open(pic_name, mode='r')\n",
    "\n"
   ]
  },
  {
   "cell_type": "code",
   "execution_count": null,
   "metadata": {},
   "outputs": [],
   "source": [
    "# open the picture\n",
    "import webbrowser\n",
    "webbrowser.open(pic_name)\n",
    "\n",
    "# another option: from the terminal using explorer.exe \n"
   ]
  },
  {
   "cell_type": "markdown",
   "metadata": {},
   "source": [
    "Markov chains: some work with text!"
   ]
  },
  {
   "cell_type": "code",
   "execution_count": null,
   "metadata": {},
   "outputs": [],
   "source": [
    "#import numpy as np\n",
    "\n",
    "# first, read the text file\n",
    "# change encoding to utf-8-sig, otherwise it will add a Byte order mark (BOM, a unicode symbol) in the beginning of the file!\n",
    "with open('pride_and_prejudice.txt',mode='r',  encoding='utf-8-sig') as f:\n",
    "    book = f.read()\n",
    "    \n",
    "print(book)"
   ]
  },
  {
   "cell_type": "code",
   "execution_count": 399,
   "metadata": {},
   "outputs": [],
   "source": [
    "# we can take letters\n",
    "letters = [l.lower() for l in book if l.isalpha()]\n",
    "\n",
    "# take words: define our markov chain\n",
    "# and make capital letters lowercase\n",
    "words = book.lower().split()\n",
    "\n",
    "#normal_string=\"\".join(ch for ch in book if ch.isalnum())\n",
    "# make it a dictionary:\n",
    "normal_words = []\n",
    "\n",
    "# remove special character from the book\n",
    "for cur_word in words:\n",
    "    if cur_word.isalnum():\n",
    "        normal_words.append(cur_word)\n"
   ]
  },
  {
   "cell_type": "code",
   "execution_count": null,
   "metadata": {},
   "outputs": [],
   "source": [
    "from collections import OrderedDict\n",
    "\n",
    "# take a look:\n",
    "print(normal_words[:100])\n",
    "\n",
    "# define the vector of states (unique words)\n",
    "# use this and not SET to preserve the order! \n",
    "states = list(OrderedDict.fromkeys(normal_words).keys())\n",
    "\n",
    "print(len(normal_words))\n",
    "print(len(states))\n",
    "states\n"
   ]
  },
  {
   "cell_type": "markdown",
   "metadata": {},
   "source": [
    "Now estimate the transition matrix for each state"
   ]
  },
  {
   "cell_type": "code",
   "execution_count": null,
   "metadata": {},
   "outputs": [],
   "source": [
    "# enumrate the states\n",
    "labs = np.arange(0, len(states))\n",
    "\n",
    "# turn the sequence of words into a sequence of integers, and map them together into a dictionary\n",
    "res = {states[i]: labs[i] for i in range(len(labs))}\n",
    "\n",
    "print(res.values())\n",
    "res.keys()\n"
   ]
  },
  {
   "cell_type": "markdown",
   "metadata": {},
   "source": [
    "Now make a method for mapping the words into integers"
   ]
  },
  {
   "cell_type": "code",
   "execution_count": 404,
   "metadata": {},
   "outputs": [],
   "source": [
    "def map_words_into_integers(normal_words):\n",
    "    mapped_words = []\n",
    "\n",
    "    for cur_word in normal_words:\n",
    "        cur_ind = list(res.keys()).index(cur_word)\n",
    "        mapped_words.append(list(res.values())[cur_ind])\n",
    "        \n",
    "    return mapped_words"
   ]
  },
  {
   "cell_type": "markdown",
   "metadata": {},
   "source": [
    "and define a method to create transition matrix"
   ]
  },
  {
   "cell_type": "code",
   "execution_count": 408,
   "metadata": {},
   "outputs": [],
   "source": [
    "def transition_matrix(chain_seq):\n",
    "    # define number of states\n",
    "    n = 1+ max(chain_seq) \n",
    "    # create an empty nXn matrix, which we will fill in\n",
    "    M = np.zeros((n,n))\n",
    "    # zip is a useful method for working with matrices\n",
    "    # for each states, we add up to a matrix whenever we find this state in the sequence \n",
    "    for (i,j) in zip(chain_seq,chain_seq[1:]):\n",
    "        M[i][j] += 1\n",
    "\n",
    "    #now convert to probabilities:\n",
    "    M = M/M.sum(axis=1, keepdims=True)\n",
    "    return M"
   ]
  },
  {
   "cell_type": "markdown",
   "metadata": {},
   "source": [
    "test the function: first, make integers out of words (might take a while)"
   ]
  },
  {
   "cell_type": "code",
   "execution_count": 405,
   "metadata": {},
   "outputs": [],
   "source": [
    "# test the function: first, make integers out of words (might take a while)\n",
    "\n",
    "words_mapped = map_words_into_integers(normal_words)\n",
    "\n"
   ]
  },
  {
   "cell_type": "code",
   "execution_count": null,
   "metadata": {},
   "outputs": [],
   "source": [
    "# check\n",
    "\n",
    "print(normal_words[:20])\n",
    "print(words_mapped[:20])\n",
    "\n",
    "print(list(res.keys()))\n",
    "print(list(res.values()))\n"
   ]
  },
  {
   "cell_type": "code",
   "execution_count": null,
   "metadata": {},
   "outputs": [],
   "source": [
    "len(words_mapped)\n",
    "\n"
   ]
  },
  {
   "cell_type": "markdown",
   "metadata": {},
   "source": [
    "Now compute the transition matrix"
   ]
  },
  {
   "cell_type": "code",
   "execution_count": null,
   "metadata": {},
   "outputs": [],
   "source": [
    "p_words = transition_matrix(words_mapped)\n",
    "\n",
    "# check the sum across rows, should be one!\n",
    "p_words.sum(axis=1)"
   ]
  },
  {
   "cell_type": "code",
   "execution_count": null,
   "metadata": {},
   "outputs": [],
   "source": [
    "# print the matrix in a more fancy way\n",
    "#for row in p_words: print(' '.join(f'{x:.10f}' for x in row))\n",
    "p_words[np.nonzero(p_words)]"
   ]
  },
  {
   "cell_type": "markdown",
   "metadata": {},
   "source": [
    "Compute the probabilty of going form state \"the\" to \"her\""
   ]
  },
  {
   "cell_type": "code",
   "execution_count": null,
   "metadata": {},
   "outputs": [],
   "source": [
    "ind1 = list(res.keys()).index('the')\n",
    "ind2 = list(res.keys()).index('her')\n",
    "\n",
    "print(ind1)\n",
    "print(ind2)\n",
    "\n",
    "print(states[ind1])\n",
    "print(states[ind2])\n",
    "\n",
    "# the probability of going from THE to HER we take directly from the matrix \n",
    "print(p_words[ind1, ind2])\n",
    "\n",
    "# some other examples of the words\n",
    "ind_his = list(res.keys()).index('his')\n",
    "ind_wife = list(res.keys()).index('wife')\n",
    "\n",
    "p_words[ind_his, ind_wife]"
   ]
  },
  {
   "cell_type": "markdown",
   "metadata": {},
   "source": [
    "Can also estimate the expected number of steps required to go from \"the\" to \"her\""
   ]
  },
  {
   "cell_type": "code",
   "execution_count": 430,
   "metadata": {},
   "outputs": [],
   "source": [
    "## first, find all indices of \"her\" and \"the\" in the sequence\n",
    "#starts = [i for i, x in enumerate(words_mapped) if x == ind1]\n",
    "#ends   = [i for i, x in enumerate(words_mapped) if x ==ind2]\n",
    "\n",
    "## now take the length of ALL subsets WITH these indicies\n",
    "#all_subsets_required_states = [len(words_mapped[start:end+1]) for start,end in zip(starts, ends)]\n",
    "########3 this does not keep the order! Try this:\n",
    "\n",
    "# define a function that takes a vector of integers, start index and end index, and finds all\n",
    "# subsequence between these indices \n",
    "def get_length_all_sequences(seq, ind1, ind2):\n",
    "    # set a count of steps\n",
    "    count = 0\n",
    "    # set a flag\n",
    "    fl = 0\n",
    "    # keep the length of all sequences between \"The\" and \"Her\"\n",
    "    sequence_length = []\n",
    "    for i in seq:\n",
    "        if i == ind1:\n",
    "            fl = 1\n",
    "        elif i == ind2:\n",
    "            fl = 0\n",
    "            sequence_length.append(count)\n",
    "            count = 0\n",
    "        # if flag is on, i count words\n",
    "        if fl: \n",
    "            count+= 1\n",
    "    return sequence_length\n",
    "\n"
   ]
  },
  {
   "cell_type": "code",
   "execution_count": null,
   "metadata": {},
   "outputs": [],
   "source": [
    "ind1 = list(res.keys()).index('the')\n",
    "ind2 = list(res.keys()).index('her')\n",
    "\n",
    "# and compute the mean\n",
    "sequence_length = get_length_all_sequences(words_mapped,ind1, ind2)\n",
    "np.mean(sequence_length)\n"
   ]
  },
  {
   "cell_type": "code",
   "execution_count": null,
   "metadata": {},
   "outputs": [],
   "source": [
    "plt.plot(sequence_length)\n",
    "plt.show"
   ]
  },
  {
   "cell_type": "markdown",
   "metadata": {},
   "source": [
    "Note: you can also generate samplings of your own text using the estimated probability matrix! "
   ]
  }
 ],
 "metadata": {
  "kernelspec": {
   "display_name": "base",
   "language": "python",
   "name": "python3"
  },
  "language_info": {
   "codemirror_mode": {
    "name": "ipython",
    "version": 3
   },
   "file_extension": ".py",
   "mimetype": "text/x-python",
   "name": "python",
   "nbconvert_exporter": "python",
   "pygments_lexer": "ipython3",
   "version": "3.12.4"
  }
 },
 "nbformat": 4,
 "nbformat_minor": 2
}
